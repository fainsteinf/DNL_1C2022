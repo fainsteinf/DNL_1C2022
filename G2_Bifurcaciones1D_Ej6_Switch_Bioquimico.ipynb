{
  "nbformat": 4,
  "nbformat_minor": 0,
  "metadata": {
    "colab": {
      "name": "G2_Bifurcaciones1D_Ej6_Switch_Bioquimico.ipynb",
      "provenance": [],
      "authorship_tag": "ABX9TyNDoZt1CiShgSPCMgzjZclH",
      "include_colab_link": true
    },
    "kernelspec": {
      "name": "python3",
      "display_name": "Python 3"
    },
    "language_info": {
      "name": "python"
    },
    "widgets": {
      "application/vnd.jupyter.widget-state+json": {
        "ad71734f12a0466397ac689bfb82e841": {
          "model_module": "@jupyter-widgets/controls",
          "model_name": "VBoxModel",
          "model_module_version": "1.5.0",
          "state": {
            "_dom_classes": [
              "widget-interact"
            ],
            "_model_module": "@jupyter-widgets/controls",
            "_model_module_version": "1.5.0",
            "_model_name": "VBoxModel",
            "_view_count": null,
            "_view_module": "@jupyter-widgets/controls",
            "_view_module_version": "1.5.0",
            "_view_name": "VBoxView",
            "box_style": "",
            "children": [
              "IPY_MODEL_010614590f6546e1a28cb2c8c4931ce9",
              "IPY_MODEL_952205abc784415b8f6b63d55379b697"
            ],
            "layout": "IPY_MODEL_a400b2d625b0443b80774fab8dbc1ab7"
          }
        },
        "010614590f6546e1a28cb2c8c4931ce9": {
          "model_module": "@jupyter-widgets/controls",
          "model_name": "FloatSliderModel",
          "model_module_version": "1.5.0",
          "state": {
            "_dom_classes": [],
            "_model_module": "@jupyter-widgets/controls",
            "_model_module_version": "1.5.0",
            "_model_name": "FloatSliderModel",
            "_view_count": null,
            "_view_module": "@jupyter-widgets/controls",
            "_view_module_version": "1.5.0",
            "_view_name": "FloatSliderView",
            "continuous_update": true,
            "description": "angulo",
            "description_tooltip": null,
            "disabled": false,
            "layout": "IPY_MODEL_12d68d1b0eed4cb2ad9679f9f1140c25",
            "max": 360,
            "min": 0,
            "orientation": "horizontal",
            "readout": true,
            "readout_format": ".2f",
            "step": 1,
            "style": "IPY_MODEL_85b4f99eda1d4ff2a9b56cc85d6a232e",
            "value": 68
          }
        },
        "952205abc784415b8f6b63d55379b697": {
          "model_module": "@jupyter-widgets/output",
          "model_name": "OutputModel",
          "model_module_version": "1.0.0",
          "state": {
            "_dom_classes": [],
            "_model_module": "@jupyter-widgets/output",
            "_model_module_version": "1.0.0",
            "_model_name": "OutputModel",
            "_view_count": null,
            "_view_module": "@jupyter-widgets/output",
            "_view_module_version": "1.0.0",
            "_view_name": "OutputView",
            "layout": "IPY_MODEL_61c35d4ff7ea442998973dcb810fb635",
            "msg_id": "",
            "outputs": [
              {
                "output_type": "display_data",
                "data": {
                  "text/plain": "<Figure size 432x432 with 1 Axes>",
                  "image/png": "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\n"
                },
                "metadata": {
                  "needs_background": "light"
                }
              }
            ]
          }
        },
        "a400b2d625b0443b80774fab8dbc1ab7": {
          "model_module": "@jupyter-widgets/base",
          "model_name": "LayoutModel",
          "model_module_version": "1.2.0",
          "state": {
            "_model_module": "@jupyter-widgets/base",
            "_model_module_version": "1.2.0",
            "_model_name": "LayoutModel",
            "_view_count": null,
            "_view_module": "@jupyter-widgets/base",
            "_view_module_version": "1.2.0",
            "_view_name": "LayoutView",
            "align_content": null,
            "align_items": null,
            "align_self": null,
            "border": null,
            "bottom": null,
            "display": null,
            "flex": null,
            "flex_flow": null,
            "grid_area": null,
            "grid_auto_columns": null,
            "grid_auto_flow": null,
            "grid_auto_rows": null,
            "grid_column": null,
            "grid_gap": null,
            "grid_row": null,
            "grid_template_areas": null,
            "grid_template_columns": null,
            "grid_template_rows": null,
            "height": null,
            "justify_content": null,
            "justify_items": null,
            "left": null,
            "margin": null,
            "max_height": null,
            "max_width": null,
            "min_height": null,
            "min_width": null,
            "object_fit": null,
            "object_position": null,
            "order": null,
            "overflow": null,
            "overflow_x": null,
            "overflow_y": null,
            "padding": null,
            "right": null,
            "top": null,
            "visibility": null,
            "width": null
          }
        },
        "12d68d1b0eed4cb2ad9679f9f1140c25": {
          "model_module": "@jupyter-widgets/base",
          "model_name": "LayoutModel",
          "model_module_version": "1.2.0",
          "state": {
            "_model_module": "@jupyter-widgets/base",
            "_model_module_version": "1.2.0",
            "_model_name": "LayoutModel",
            "_view_count": null,
            "_view_module": "@jupyter-widgets/base",
            "_view_module_version": "1.2.0",
            "_view_name": "LayoutView",
            "align_content": null,
            "align_items": null,
            "align_self": null,
            "border": null,
            "bottom": null,
            "display": null,
            "flex": null,
            "flex_flow": null,
            "grid_area": null,
            "grid_auto_columns": null,
            "grid_auto_flow": null,
            "grid_auto_rows": null,
            "grid_column": null,
            "grid_gap": null,
            "grid_row": null,
            "grid_template_areas": null,
            "grid_template_columns": null,
            "grid_template_rows": null,
            "height": null,
            "justify_content": null,
            "justify_items": null,
            "left": null,
            "margin": null,
            "max_height": null,
            "max_width": null,
            "min_height": null,
            "min_width": null,
            "object_fit": null,
            "object_position": null,
            "order": null,
            "overflow": null,
            "overflow_x": null,
            "overflow_y": null,
            "padding": null,
            "right": null,
            "top": null,
            "visibility": null,
            "width": null
          }
        },
        "85b4f99eda1d4ff2a9b56cc85d6a232e": {
          "model_module": "@jupyter-widgets/controls",
          "model_name": "SliderStyleModel",
          "model_module_version": "1.5.0",
          "state": {
            "_model_module": "@jupyter-widgets/controls",
            "_model_module_version": "1.5.0",
            "_model_name": "SliderStyleModel",
            "_view_count": null,
            "_view_module": "@jupyter-widgets/base",
            "_view_module_version": "1.2.0",
            "_view_name": "StyleView",
            "description_width": "",
            "handle_color": null
          }
        },
        "61c35d4ff7ea442998973dcb810fb635": {
          "model_module": "@jupyter-widgets/base",
          "model_name": "LayoutModel",
          "model_module_version": "1.2.0",
          "state": {
            "_model_module": "@jupyter-widgets/base",
            "_model_module_version": "1.2.0",
            "_model_name": "LayoutModel",
            "_view_count": null,
            "_view_module": "@jupyter-widgets/base",
            "_view_module_version": "1.2.0",
            "_view_name": "LayoutView",
            "align_content": null,
            "align_items": null,
            "align_self": null,
            "border": null,
            "bottom": null,
            "display": null,
            "flex": null,
            "flex_flow": null,
            "grid_area": null,
            "grid_auto_columns": null,
            "grid_auto_flow": null,
            "grid_auto_rows": null,
            "grid_column": null,
            "grid_gap": null,
            "grid_row": null,
            "grid_template_areas": null,
            "grid_template_columns": null,
            "grid_template_rows": null,
            "height": null,
            "justify_content": null,
            "justify_items": null,
            "left": null,
            "margin": null,
            "max_height": null,
            "max_width": null,
            "min_height": null,
            "min_width": null,
            "object_fit": null,
            "object_position": null,
            "order": null,
            "overflow": null,
            "overflow_x": null,
            "overflow_y": null,
            "padding": null,
            "right": null,
            "top": null,
            "visibility": null,
            "width": null
          }
        }
      }
    }
  },
  "cells": [
    {
      "cell_type": "markdown",
      "metadata": {
        "id": "view-in-github",
        "colab_type": "text"
      },
      "source": [
        "<a href=\"https://colab.research.google.com/github/fainsteinf/DNL_1C2022/blob/main/G2_Bifurcaciones1D_Ej6_Switch_Bioquimico.ipynb\" target=\"_parent\"><img src=\"https://colab.research.google.com/assets/colab-badge.svg\" alt=\"Open In Colab\"/></a>"
      ]
    },
    {
      "cell_type": "markdown",
      "source": [
        "**Guia 2 - Bifurcaciones en 1D**\n",
        "\n",
        "**Ejercicio 6. Switch bioquimico.** \n",
        "\n",
        "Las bandas de las cebras y los patrones de las mariposas son dos de los\n",
        "ejemplos más espectaculares de formación de patrones biológicos. Explicar el surgimiento de dichos patrones es un problema abierto en la biología.\n",
        "\n",
        "Como uno de los ingredientes necesarios para el surgimiento de dichos patrones, Lewis (1979) consideró un ejemplo sencillo de switch bioquímico, donde un gen G se activa por una señal bioquímica S. Por ejemplo, el gen está normalmente desactivado, pero se puede ’prender’ para producir un pigmento, u otro producto de los genes cuando la concentración de S excede cierto umbral. Sea $g(t)$ la concentración\n",
        "del producto del gen, y asuma la concentraci´on s0 de S como constante. El modelo es:\n",
        "\n",
        "$ \\dot{g} = k_{1}s_{0} - k_{2}g + k_{3} \\frac{g^{2}}{k_{4}^{2}+g^{2}} $\n",
        "\n",
        "donde $k_{j} > 0$ son constantes de reacción. La producción de $g$ es estimulada por $s_{0}$ al ritmo $k_{1}$, y por una retroalimentación auto catalítica o positiva. Hay también un término de degradación controlado por $k_{2}$.\n",
        "\n",
        "\n",
        "(a) Muestre que el problema se puede llevar a la ecuación adimensional\n",
        "\n",
        "$ \\frac{dx}{d\\tau} = s - rx + \\frac{x^{2}}{1+x^{2}} $\n",
        "\n",
        "donde r > 0 y s ≥ 0 son adimensionales.\n",
        "\n",
        "(b) Muestre que si s = 0, hay dos puntos fijos positivos $x^{∗}$ si r < rc, donde rc debe ser determinado.\n",
        "\n",
        "(c) Asuma que inicialmente no hay ningún producto en la reacción g(0) = 0, y suponga que s aumenta lentamente desde 0 (la señal activadora se ’prende’): ¿qué pasa con g(t)? ¿Qué pasa si s vuelve a caer a cero? ¿El producto se apaga nuevamente?\n",
        "\n",
        "(d) Encuentre ecuaciones paramétricas para las curvas de bifurcación en el espacio (r, s) y clasifique las bifurcaciones que ocurren.\n"
      ],
      "metadata": {
        "id": "zj6ADp4mY_YS"
      }
    },
    {
      "cell_type": "code",
      "execution_count": 1,
      "metadata": {
        "colab": {
          "base_uri": "https://localhost:8080/",
          "height": 279
        },
        "id": "JIGfAWOoY611",
        "outputId": "c5f4cdde-0af1-4c5e-aab9-90cabfc2164e"
      },
      "outputs": [
        {
          "output_type": "display_data",
          "data": {
            "text/plain": [
              "<Figure size 432x288 with 1 Axes>"
            ],
            "image/png": "[encoded data removed]"
          },
          "metadata": {
            "needs_background": "light"
          }
        }
      ],
      "source": [
        "import numpy as np\n",
        "import matplotlib.pyplot as plt\n",
        "from scipy.interpolate import UnivariateSpline\n",
        "\n",
        "#dnl guia 2 bifs 1d - switch bioquimico\n",
        "\n",
        "\n",
        "#Diagrama de bifurcaciones\n",
        "x = np.linspace(0, 1, 1000)\n",
        "\n",
        "r_sn = 2 * x / (1 + x**2)**2\n",
        "\n",
        "s_sn = x**2 * (1 - x**2) / (1+x**2)**2\n",
        "plt.figure()\n",
        "plt.plot(r_sn, s_sn)\n",
        "plt.xlabel(\"r\")\n",
        "plt.ylabel(\"s\")\n",
        "plt.show()"
      ]
    },
    {
      "cell_type": "code",
      "source": [
        "#%% Cuspide\n",
        "\n",
        "indice = np.argmax(s_sn)\n",
        "print(\"En el punto cuspide s vale: \", s_sn[indice])\n",
        "print(\"En el punto cuspide r vale: \", r_sn[indice])\n",
        "\n",
        "xx = np.linspace(0, 4, 1000)\n",
        "\n",
        "plt.plot(xx, r_sn[indice] * xx)\n",
        "plt.plot(xx, s_sn[indice] + xx**2 / ( 1 + xx**2 ))\n",
        "plt.ylim([0,1.2])\n",
        "plt.show()"
      ],
      "metadata": {
        "colab": {
          "base_uri": "https://localhost:8080/",
          "height": 304
        },
        "id": "GnSBP50oeMxp",
        "outputId": "635057ed-309d-41d6-ea02-1a37107c345f"
      },
      "execution_count": 2,
      "outputs": [
        {
          "output_type": "stream",
          "name": "stdout",
          "text": [
            "En el punto cuspide s vale:  0.12499995640419753\n",
            "En el punto cuspide r vale:  0.6495189773479977\n"
          ]
        },
        {
          "output_type": "display_data",
          "data": {
            "text/plain": [
              "<Figure size 432x288 with 1 Axes>"
            ],
            "image/png": "[encoded data removed]"
          },
          "metadata": {
            "needs_background": "light"
          }
        }
      ]
    },
    {
      "cell_type": "code",
      "source": [
        "#%% Buscamos los puntos fijos\n",
        "from google.colab import output\n",
        "\n",
        "# el campo vector\n",
        "def f(x, r, s): \n",
        "    return s - r * x + x**2 / (1+x**2)\n",
        "\n",
        "#una funcion que devuelve las raices del campo dados r y s\n",
        "def raices(r, s):\n",
        "    xx = np.linspace(0, 100, 10000)\n",
        "    raices = UnivariateSpline(xx, f(xx, r, s), s=0, k=3).roots()\n",
        "    if f(0, r, s) == 0:\n",
        "        raices = np.concatenate(([0], raices))\n",
        "    return raices\n",
        "\n",
        "# definimos rangos de r y s donde buscaremos puntos fijos\n",
        "rs = np.linspace(0, 0.65, 100)\n",
        "ss = np.linspace(0, 0.13, 100)\n",
        "\n",
        "pfs = []\n",
        "n_tot = len(rs)*len(ss)\n",
        "contador = 0\n",
        "for r in rs:\n",
        "    for s in ss:\n",
        "        if contador % 10 == 0:\n",
        "          print(np.round(100*contador/n_tot, 2),\"%\")\n",
        "        elif contador % 100 == 5:\n",
        "          output.clear()  \n",
        "        pfs_aux = raices(r, s)\n",
        "        for k in range(len(pfs_aux)):\n",
        "            pfs.append(np.concatenate(([r, s], [pfs_aux[k]])))\n",
        "        contador += 1"
      ],
      "metadata": {
        "colab": {
          "base_uri": "https://localhost:8080/"
        },
        "id": "16fQuywAeRv0",
        "outputId": "ba32eb9e-c05b-48e2-a803-1f471ba94f22"
      },
      "execution_count": 3,
      "outputs": [
        {
          "output_type": "stream",
          "name": "stdout",
          "text": [
            "99.1 %\n",
            "99.2 %\n",
            "99.3 %\n",
            "99.4 %\n",
            "99.5 %\n",
            "99.6 %\n",
            "99.7 %\n",
            "99.8 %\n",
            "99.9 %\n"
          ]
        }
      ]
    },
    {
      "cell_type": "code",
      "source": [
        "# from mpl_toolkits import mplot3d\n",
        "pfs = np.array(pfs)\n",
        "\n",
        "#Graficamos\n",
        "fig = plt.figure()\n",
        "ax = plt.axes(projection='3d')\n",
        "ax.plot(pfs[:,0], pfs[:,1], pfs[:,2], '.', ms=0.5)\n",
        "ax.plot(r_sn, s_sn, np.zeros(len(s_sn)), 'k')\n",
        "ax.set_zlim([0, 0.7])\n",
        "ax.grid(False)\n",
        "# plt.axis('off')\n",
        "ax.set_xlabel(\"r\")\n",
        "ax.set_ylabel(\"s\")\n",
        "ax.set_zlabel(r\"$x^{*}$\")\n",
        "ax.view_init(30, 15)\n",
        "plt.show()"
      ],
      "metadata": {
        "colab": {
          "base_uri": "https://localhost:8080/",
          "height": 248
        },
        "id": "-EHFII0pfBcF",
        "outputId": "fc94a619-6a1d-4e09-8419-dd059af010d1"
      },
      "execution_count": 4,
      "outputs": [
        {
          "output_type": "display_data",
          "data": {
            "text/plain": [
              "<Figure size 432x288 with 1 Axes>"
            ],
            "image/png": "[encoded data removed]"
          },
          "metadata": {
            "needs_background": "light"
          }
        }
      ]
    },
    {
      "cell_type": "code",
      "source": [
        "#Un plot interactivo para variar el angulo\n",
        "from ipywidgets import interact\n",
        "\n",
        "def graf(angulo):\n",
        "  fig = plt.figure(figsize=(6,6))\n",
        "  ax = plt.axes(projection='3d')\n",
        "  ax.plot(pfs[:,0], pfs[:,1], pfs[:,2], '.', ms=0.5)\n",
        "  ax.plot(r_sn, s_sn, np.zeros(len(s_sn)), 'k')\n",
        "  ax.set_zlim([0, 2])\n",
        "  ax.grid(False)\n",
        "  plt.axis('off')\n",
        "  ax.view_init(30, angulo)\n",
        "  plt.show()\n",
        "\n",
        "interact(graf, angulo=(0,360,1.))"
      ],
      "metadata": {
        "colab": {
          "base_uri": "https://localhost:8080/",
          "height": 406,
          "referenced_widgets": [
            "ad71734f12a0466397ac689bfb82e841",
            "010614590f6546e1a28cb2c8c4931ce9",
            "952205abc784415b8f6b63d55379b697",
            "a400b2d625b0443b80774fab8dbc1ab7",
            "12d68d1b0eed4cb2ad9679f9f1140c25",
            "85b4f99eda1d4ff2a9b56cc85d6a232e",
            "61c35d4ff7ea442998973dcb810fb635"
          ]
        },
        "id": "__PyTphkgHPO",
        "outputId": "44fa7020-1ea6-462e-cec4-895159b15f2b"
      },
      "execution_count": 6,
      "outputs": [
        {
          "output_type": "display_data",
          "data": {
            "text/plain": [
              "interactive(children=(FloatSlider(value=180.0, description='angulo', max=360.0, step=1.0), Output()), _dom_cla…"
            ],
            "application/vnd.jupyter.widget-view+json": {
              "version_major": 2,
              "version_minor": 0,
              "model_id": "ad71734f12a0466397ac689bfb82e841"
            }
          },
          "metadata": {}
        },
        {
          "output_type": "execute_result",
          "data": {
            "text/plain": [
              "<function __main__.graf>"
            ]
          },
          "metadata": {},
          "execution_count": 6
        }
      ]
    },
    {
      "cell_type": "markdown",
      "source": [
        "Cómo armar el gif:"
      ],
      "metadata": {
        "id": "U6cixh9FhRT9"
      }
    },
    {
      "cell_type": "code",
      "source": [
        "#Paso 1: guardar las imagenes\n",
        "\n",
        "# save_folder = \"/home/...\"  #Carpeta donde guardar las imagenes\n",
        "\n",
        "fig = plt.figure()\n",
        "ax = plt.axes(projection='3d')\n",
        "ax.plot(pfs[:,0], pfs[:,1], pfs[:,2], '.', ms=0.5)\n",
        "ax.plot(r_sn, s_sn, np.zeros(len(s_sn)), 'k')\n",
        "ax.set_zlim([0, 0.7])\n",
        "ax.grid(False)\n",
        "plt.axis('off')\n",
        "# rotate the axes and update\n",
        "contador = 0\n",
        "for angle in range(0, 360):\n",
        "    ax.view_init(30, angle)\n",
        "    plt.draw()\n",
        "    plt.savefig(save_folder+str(contador)+\".png\", dpi=100)   #Descomentar si queres guardar\n",
        "    # plt.pause(.0005) \n",
        "    contador+=1\n",
        "plt.show()"
      ],
      "metadata": {
        "id": "sPj9lvaUfb2Y"
      },
      "execution_count": null,
      "outputs": []
    },
    {
      "cell_type": "code",
      "source": [
        "#Guardamos los nombres de los archivos, ordenados, en una lista\n",
        "lista_files=[]\n",
        "for k in range(360):\n",
        "    lista_files.append(save_folder+str(k)+\".png\")\n",
        "  \n",
        "#%%\n",
        "import imageio\n",
        "images = []\n",
        "\n",
        "for filename in lista_files:\n",
        "    images.append(imageio.imread(filename))\n",
        "# imageio.mimsave(save_folder+'movie.gif', images)"
      ],
      "metadata": {
        "id": "MN8GnvHDvCpU"
      },
      "execution_count": null,
      "outputs": []
    }
  ]
}